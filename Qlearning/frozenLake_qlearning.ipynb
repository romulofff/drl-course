{
 "cells": [
  {
   "cell_type": "markdown",
   "metadata": {},
   "source": [
    "### Import needed libraries "
   ]
  },
  {
   "cell_type": "code",
<<<<<<< HEAD:Qlearning/qlearning.ipynb
   "execution_count": 99,
=======
   "execution_count": 1,
>>>>>>> cd60d44627417dbf72cbae85653db5091eb92d1b:Qlearning/frozenLake_qlearning.ipynb
   "metadata": {},
   "outputs": [],
   "source": [
    "import numpy as np\n",
    "import gym\n",
    "import random\n",
    "from time import sleep\n",
    "from IPython.display import clear_output"
   ]
  },
  {
   "cell_type": "markdown",
   "metadata": {},
   "source": [
    "### Creating enviroment using Gym"
   ]
  },
  {
   "cell_type": "code",
<<<<<<< HEAD:Qlearning/qlearning.ipynb
   "execution_count": 130,
=======
   "execution_count": 2,
>>>>>>> cd60d44627417dbf72cbae85653db5091eb92d1b:Qlearning/frozenLake_qlearning.ipynb
   "metadata": {},
   "outputs": [
    {
     "name": "stdout",
     "output_type": "stream",
     "text": [
      "4 16\n"
     ]
    }
   ],
   "source": [
    "env = gym.make(\"FrozenLake-v0\", is_slippery=True)    # Regular Frozen Lake 4x4\n",
    "# env = gym.make(\"FrozenLake8x8-v0\")   # Frozen Lake 8x8\n",
    "\n",
    "action_space = env.action_space.n     # Number of actions available\n",
    "state_size = env.observation_space.n\n",
    "print(action_space, state_size)"
   ]
  },
  {
   "cell_type": "markdown",
   "metadata": {},
   "source": [
    "### Creating Q-Table"
   ]
  },
  {
   "cell_type": "code",
<<<<<<< HEAD:Qlearning/qlearning.ipynb
   "execution_count": 131,
=======
   "execution_count": 3,
>>>>>>> cd60d44627417dbf72cbae85653db5091eb92d1b:Qlearning/frozenLake_qlearning.ipynb
   "metadata": {},
   "outputs": [
    {
     "name": "stdout",
     "output_type": "stream",
     "text": [
      "[[0. 0. 0. 0.]\n",
      " [0. 0. 0. 0.]\n",
      " [0. 0. 0. 0.]\n",
      " [0. 0. 0. 0.]\n",
      " [0. 0. 0. 0.]\n",
      " [0. 0. 0. 0.]\n",
      " [0. 0. 0. 0.]\n",
      " [0. 0. 0. 0.]\n",
      " [0. 0. 0. 0.]\n",
      " [0. 0. 0. 0.]\n",
      " [0. 0. 0. 0.]\n",
      " [0. 0. 0. 0.]\n",
      " [0. 0. 0. 0.]\n",
      " [0. 0. 0. 0.]\n",
      " [0. 0. 0. 0.]\n",
      " [0. 0. 0. 0.]]\n"
     ]
    }
   ],
   "source": [
    "qtable = np.zeros((state_size, action_space))  # Initialize Q-Table with zeros\n",
    "print(qtable)"
   ]
  },
  {
   "cell_type": "markdown",
   "metadata": {},
   "source": [
    "### Defining Hyper-parameters"
   ]
  },
  {
   "cell_type": "code",
<<<<<<< HEAD:Qlearning/qlearning.ipynb
   "execution_count": 132,
=======
   "execution_count": 8,
>>>>>>> cd60d44627417dbf72cbae85653db5091eb92d1b:Qlearning/frozenLake_qlearning.ipynb
   "metadata": {},
   "outputs": [],
   "source": [
    "# General parameters\n",
    "total_episodes = 10000\n",
    "learning_rate = 0.8\n",
    "max_steps = 99\n",
    "gamma = 0.95\n",
    "\n",
    "# Exploration parameters\n",
    "epsilon = 0.1\n",
    "max_epsilon = 1.0\n",
    "min_epsilon = 0.01\n",
    "decay_rate = 0.005"
   ]
  },
  {
   "cell_type": "markdown",
   "metadata": {},
   "source": [
    "### Q-Learning Algorithm"
   ]
  },
  {
   "cell_type": "code",
<<<<<<< HEAD:Qlearning/qlearning.ipynb
   "execution_count": 133,
=======
   "execution_count": 9,
>>>>>>> cd60d44627417dbf72cbae85653db5091eb92d1b:Qlearning/frozenLake_qlearning.ipynb
   "metadata": {},
   "outputs": [
    {
     "name": "stdout",
     "output_type": "stream",
     "text": [
<<<<<<< HEAD:Qlearning/qlearning.ipynb
      "Score over time: 0.4808\n",
      "[[9.85335581e-03 9.81665265e-03 1.63354251e-02 1.00044720e-02]\n",
      " [4.65106002e-04 2.23991237e-03 2.00907161e-03 4.39440697e-03]\n",
      " [2.83174326e-03 2.99600130e-03 3.69397905e-03 5.97472342e-03]\n",
      " [4.72045367e-04 1.52769923e-03 4.06684258e-03 4.91321439e-03]\n",
      " [1.33920031e-01 1.01018817e-02 6.88030288e-04 2.92999126e-03]\n",
      " [0.00000000e+00 0.00000000e+00 0.00000000e+00 0.00000000e+00]\n",
      " [1.49831939e-02 6.23275845e-08 1.45774688e-04 6.89470639e-05]\n",
      " [0.00000000e+00 0.00000000e+00 0.00000000e+00 0.00000000e+00]\n",
      " [2.60926243e-03 4.80318840e-03 6.30737041e-03 5.86737210e-01]\n",
      " [6.40326083e-03 7.76343678e-01 5.75088885e-03 7.28629530e-03]\n",
      " [3.62911109e-02 5.35318832e-03 6.92223832e-03 4.59310532e-04]\n",
      " [0.00000000e+00 0.00000000e+00 0.00000000e+00 0.00000000e+00]\n",
      " [0.00000000e+00 0.00000000e+00 0.00000000e+00 0.00000000e+00]\n",
      " [1.19281990e-02 1.71114960e-01 9.21713143e-01 6.09528146e-03]\n",
      " [1.36332731e-01 1.30344432e-01 3.33384766e-01 1.37553636e-01]\n",
=======
      "Score over time: 0.41286666666666666\n",
      "[[6.80910927e-02 3.07001554e-01 5.74317069e-02 6.75243076e-02]\n",
      " [7.77639491e-03 2.13714749e-03 2.89099613e-03 1.72022953e-01]\n",
      " [4.08738649e-01 1.14386932e-03 8.79555530e-03 3.77936552e-02]\n",
      " [1.67120973e-02 2.88269754e-03 2.78979217e-03 3.76572575e-02]\n",
      " [3.26468114e-01 1.35943447e-02 8.89723385e-05 8.37260703e-03]\n",
      " [0.00000000e+00 0.00000000e+00 0.00000000e+00 0.00000000e+00]\n",
      " [1.07421431e-05 4.40662686e-08 9.93562103e-02 4.05291136e-04]\n",
      " [0.00000000e+00 0.00000000e+00 0.00000000e+00 0.00000000e+00]\n",
      " [1.10926295e-02 4.52441466e-02 5.70268316e-03 3.67175391e-01]\n",
      " [1.24539763e-02 7.06977429e-01 2.37653238e-02 8.77836442e-02]\n",
      " [8.67385984e-01 5.97679701e-01 8.53961360e-03 5.28132799e-02]\n",
      " [0.00000000e+00 0.00000000e+00 0.00000000e+00 0.00000000e+00]\n",
      " [0.00000000e+00 0.00000000e+00 0.00000000e+00 0.00000000e+00]\n",
      " [7.57804331e-02 3.14100116e-02 5.88836492e-01 3.98227033e-03]\n",
      " [3.38859172e-01 9.84718673e-01 1.85617607e-01 8.16043259e-01]\n",
>>>>>>> cd60d44627417dbf72cbae85653db5091eb92d1b:Qlearning/frozenLake_qlearning.ipynb
      " [0.00000000e+00 0.00000000e+00 0.00000000e+00 0.00000000e+00]]\n"
     ]
    }
   ],
   "source": [
    "rewards = []\n",
    "\n",
    "for episode in range(total_episodes):\n",
    "    state = env.reset()\n",
    "    step = 0\n",
    "    done = False\n",
    "    total_reward = 0\n",
    "\n",
    "    for step in range(max_steps):\n",
    "\n",
    "        # Decide between exploration and explotation\n",
    "        if random.uniform(0, 1) > epsilon:\n",
    "            action = np.argmax(qtable[state, :])\n",
    "\n",
    "        else:\n",
    "            action = env.action_space.sample()\n",
    "\n",
    "        new_state, reward, done, info = env.step(\n",
    "            action)  # Advance one step in the environment\n",
    "\n",
    "        # Update Q(s,a):= Q(s,a) + lr [R(s,a) + gamma * max Q(s',a') - Q(s,a)]\n",
    "        qtable[state, action] = qtable[state, action] + learning_rate * \\\n",
    "            (reward + gamma *\n",
    "             np.max(qtable[new_state, :]) - qtable[state, action])\n",
    "\n",
    "        total_reward += reward\n",
    "\n",
    "        state = new_state\n",
    "\n",
    "        if done:\n",
    "            break\n",
    "\n",
    "    epsilon = min_epsilon + (max_epsilon - min_epsilon) * \\\n",
    "        np.exp(-decay_rate*episode)  # Modify epsilon\n",
    "    rewards.append(total_reward)\n",
    "\n",
    "# Returns average reward per episode\n",
    "print(\"Score over time: \" + str(sum(rewards)/total_episodes))\n",
    "print(qtable)"
   ]
  },
  {
   "cell_type": "markdown",
   "metadata": {},
   "source": [
    "### Play game using Q-Table"
   ]
  },
  {
   "cell_type": "code",
<<<<<<< HEAD:Qlearning/qlearning.ipynb
   "execution_count": 125,
   "metadata": {
    "scrolled": false
   },
=======
   "execution_count": 11,
   "metadata": {},
>>>>>>> cd60d44627417dbf72cbae85653db5091eb92d1b:Qlearning/frozenLake_qlearning.ipynb
   "outputs": [
    {
     "name": "stdout",
     "output_type": "stream",
     "text": [
      "****************************************************\n",
      "EPISODE  0\n",
      "  (Right)\n",
      "SFFF\n",
      "FHFH\n",
      "FFFH\n",
      "HFF\u001b[41mG\u001b[0m\n",
<<<<<<< HEAD:Qlearning/qlearning.ipynb
      "Number of steps 5\n",
=======
      "Number of steps 34\n",
>>>>>>> cd60d44627417dbf72cbae85653db5091eb92d1b:Qlearning/frozenLake_qlearning.ipynb
      "****************************************************\n",
      "EPISODE  1\n",
      "  (Right)\n",
      "SFFF\n",
      "FHF\u001b[41mH\u001b[0m\n",
      "FFFH\n",
<<<<<<< HEAD:Qlearning/qlearning.ipynb
      "HFF\u001b[41mG\u001b[0m\n",
      "Number of steps 5\n",
=======
      "HFFG\n",
      "Number of steps 7\n",
>>>>>>> cd60d44627417dbf72cbae85653db5091eb92d1b:Qlearning/frozenLake_qlearning.ipynb
      "****************************************************\n",
      "EPISODE  2\n",
      "  (Right)\n",
      "SFFF\n",
      "FHF\u001b[41mH\u001b[0m\n",
      "FFFH\n",
<<<<<<< HEAD:Qlearning/qlearning.ipynb
      "HFF\u001b[41mG\u001b[0m\n",
      "Number of steps 5\n",
      "****************************************************\n",
      "EPISODE  3\n",
      "  (Right)\n",
=======
      "HFFG\n",
      "Number of steps 35\n",
      "****************************************************\n",
      "EPISODE  3\n",
      "****************************************************\n",
      "EPISODE  4\n",
      "  (Down)\n",
>>>>>>> cd60d44627417dbf72cbae85653db5091eb92d1b:Qlearning/frozenLake_qlearning.ipynb
      "SFFF\n",
      "FHFH\n",
      "FFFH\n",
      "HFF\u001b[41mG\u001b[0m\n",
<<<<<<< HEAD:Qlearning/qlearning.ipynb
      "Number of steps 5\n",
      "****************************************************\n",
      "EPISODE  4\n",
      "  (Right)\n",
      "SFFF\n",
      "FHFH\n",
      "FFFH\n",
      "HFF\u001b[41mG\u001b[0m\n",
      "Number of steps 5\n",
      "****************************************************\n",
      "EPISODE  5\n",
=======
      "Number of steps 15\n",
      "****************************************************\n",
      "EPISODE  5\n",
      "****************************************************\n",
      "EPISODE  6\n",
>>>>>>> cd60d44627417dbf72cbae85653db5091eb92d1b:Qlearning/frozenLake_qlearning.ipynb
      "  (Right)\n",
      "SFFF\n",
      "FHF\u001b[41mH\u001b[0m\n",
      "FFFH\n",
<<<<<<< HEAD:Qlearning/qlearning.ipynb
      "HFF\u001b[41mG\u001b[0m\n",
      "Number of steps 5\n",
      "****************************************************\n",
      "EPISODE  6\n",
      "  (Right)\n",
=======
      "HFFG\n",
      "Number of steps 9\n",
      "****************************************************\n",
      "EPISODE  7\n",
      "  (Down)\n",
>>>>>>> cd60d44627417dbf72cbae85653db5091eb92d1b:Qlearning/frozenLake_qlearning.ipynb
      "SFFF\n",
      "FHFH\n",
      "FFFH\n",
      "HFF\u001b[41mG\u001b[0m\n",
<<<<<<< HEAD:Qlearning/qlearning.ipynb
      "Number of steps 5\n",
      "****************************************************\n",
      "EPISODE  7\n",
      "  (Right)\n",
      "SFFF\n",
      "FHFH\n",
      "FFFH\n",
      "HFF\u001b[41mG\u001b[0m\n",
      "Number of steps 5\n",
=======
      "Number of steps 43\n",
>>>>>>> cd60d44627417dbf72cbae85653db5091eb92d1b:Qlearning/frozenLake_qlearning.ipynb
      "****************************************************\n",
      "EPISODE  8\n",
      "  (Right)\n",
      "SFFF\n",
      "FHFH\n",
      "FFFH\n",
      "HFF\u001b[41mG\u001b[0m\n",
      "Number of steps 5\n",
      "****************************************************\n",
      "EPISODE  9\n",
      "  (Right)\n",
      "SFFF\n",
      "FHFH\n",
      "FFFH\n",
      "HFF\u001b[41mG\u001b[0m\n",
<<<<<<< HEAD:Qlearning/qlearning.ipynb
      "Number of steps 5\n"
=======
      "Number of steps 16\n"
>>>>>>> cd60d44627417dbf72cbae85653db5091eb92d1b:Qlearning/frozenLake_qlearning.ipynb
     ]
    }
   ],
   "source": [
    "env.reset()\n",
    "\n",
    "for episode in range(10):\n",
    "    state = env.reset()\n",
    "    step = 0\n",
    "    done = False\n",
    "    print(\"****************************************************\")\n",
    "    print(\"EPISODE \", episode)\n",
    "\n",
    "    for step in range(max_steps):\n",
    "\n",
    "        # Take the action (index) that have the maximum expected future reward given that state\n",
    "        action = np.argmax(qtable[state, :])\n",
    "        \n",
    "        new_state, reward, done, info = env.step(action)\n",
    "#         env.render()    # Un-comment to watch every game step\n",
    "        \n",
    "        if done:\n",
    "            # Here, we decide to only print the last state (to see if our agent is on the goal or fall into an hole)\n",
    "            env.render()\n",
    "\n",
    "            # We print the number of step it took.\n",
    "            print(\"Number of steps\", step)\n",
    "            break\n",
    "        state = new_state\n",
    "env.close()"
   ]
  },
  {
   "cell_type": "code",
   "execution_count": 134,
   "metadata": {
    "scrolled": true
   },
   "outputs": [
    {
     "name": "stdout",
     "output_type": "stream",
     "text": [
      "  (Right)\n",
      "SFFF\n",
      "FHFH\n",
      "FFFH\n",
      "HFF\u001b[41mG\u001b[0m\n"
     ]
    }
   ],
   "source": [
    "state = env.reset()\n",
    "done = False\n",
    "\n",
    "env.render()\n",
    "while not done:\n",
    "    action = np.argmax(qtable[state, :])\n",
    "    print(action)\n",
    "    state, reward, done, info = env.step(action)\n",
    "    sleep(1)\n",
    "    clear_output()\n",
    "    env.render()"
   ]
  },
  {
   "cell_type": "code",
   "execution_count": null,
   "metadata": {},
   "outputs": [],
   "source": []
  }
 ],
 "metadata": {
  "kernelspec": {
   "display_name": "Python 3",
   "language": "python",
   "name": "python3"
  },
  "language_info": {
   "codemirror_mode": {
    "name": "ipython",
    "version": 3
   },
   "file_extension": ".py",
   "mimetype": "text/x-python",
   "name": "python",
   "nbconvert_exporter": "python",
   "pygments_lexer": "ipython3",
   "version": "3.6.9"
  }
 },
 "nbformat": 4,
 "nbformat_minor": 2
}
